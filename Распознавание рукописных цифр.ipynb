{
 "cells": [
  {
   "cell_type": "markdown",
   "metadata": {},
   "source": [
    "## Обучение модели распознавать рукописные цифры\n",
    "\n",
    "#### Информация о датасете:\n",
    "Объёмная база данных образцов рукописного написания цифр. База данных является стандартом, предложенным Национальным институтом стандартов и технологий США с целью калибрации и сопоставления методов распознавания изображений с помощью машинного обучения в первую очередь на основе нейронных сетей. \n",
    "\n",
    "#### Задачи:\n",
    "* Чтение и преобразование данных  \n",
    "* Настройка и проверка модели  \n",
    "* Обучение на отложенных данных  \n",
    "* Оценка точности\n",
    "\n",
    "#### Версии библиотек:\n",
    "* tensorflow 2.5.0\n",
    "* keras 2.5.0\n",
    "* matplotlib 3.3.2"
   ]
  },
  {
   "cell_type": "code",
   "execution_count": 114,
   "metadata": {},
   "outputs": [],
   "source": [
    "import keras\n",
    "from keras.datasets import mnist\n",
    "from keras.utils import np_utils\n",
    "from keras.models import Sequential\n",
    "from keras.layers import Dense, Dropout, Flatten\n",
    "from keras.layers import Conv2D, MaxPooling2D\n",
    "from tensorflow.keras.optimizers import Adadelta\n",
    "\n",
    "# Чтобы не кидал ошибку при компилировании\n",
    "import tensorflow as tf\n",
    "tf.compat.v1.disable_eager_execution()"
   ]
  },
  {
   "cell_type": "code",
   "execution_count": 115,
   "metadata": {},
   "outputs": [
    {
     "name": "stdout",
     "output_type": "stream",
     "text": [
      "(60000, 28, 28) (60000,)\n"
     ]
    }
   ],
   "source": [
    "# импортируем данные и создаем обучающую и тестовую выборки\n",
    "(x_train, y_train), (x_test, y_test) = mnist.load_data()\n",
    "print(x_train.shape, y_train.shape)"
   ]
  },
  {
   "cell_type": "code",
   "execution_count": 116,
   "metadata": {},
   "outputs": [],
   "source": [
    "import matplotlib.pyplot as plt\n",
    "%matplotlib inline"
   ]
  },
  {
   "cell_type": "code",
   "execution_count": 117,
   "metadata": {},
   "outputs": [
    {
     "data": {
      "image/png": "[encoded data removed]",
      "text/plain": [
       "<Figure size 432x288 with 10 Axes>"
      ]
     },
     "metadata": {
      "needs_background": "light"
     },
     "output_type": "display_data"
    }
   ],
   "source": [
    "images = x_train[:10]\n",
    "labels = y_train[:10]\n",
    "num_row = 2\n",
    "num_col = 5\n",
    "\n",
    "fig, axes = plt.subplots(num_row, num_col) \n",
    "for i in range(10):\n",
    "    ax = axes[i//num_col, i%num_col]\n",
    "    ax.imshow(images[i], cmap='gray')\n",
    "    ax.set_title('Label: {}'.format(labels[i]))\n",
    "plt.tight_layout()\n",
    "plt.show()"
   ]
  },
  {
   "cell_type": "code",
   "execution_count": 5,
   "metadata": {},
   "outputs": [],
   "source": [
    "num_classes = 10 # цифры 0-9\n",
    "x_train = x_train.reshape(x_train.shape[0], 28, 28, 1) # размер изображения 28x28\n",
    "x_test = x_test.reshape(x_test.shape[0], 28, 28, 1)"
   ]
  },
  {
   "cell_type": "code",
   "execution_count": 8,
   "metadata": {},
   "outputs": [],
   "source": [
    "# переводим изображения в диапазон [0,1]\n",
    "x_train = x_train.astype('float32') / 255\n",
    "x_test = x_test.astype('float32') / 255"
   ]
  },
  {
   "cell_type": "code",
   "execution_count": 10,
   "metadata": {},
   "outputs": [
    {
     "name": "stdout",
     "output_type": "stream",
     "text": [
      "Размер обучающей выборки: 60000\n",
      "Размер тестовой выборки: 10000\n"
     ]
    }
   ],
   "source": [
    "# преобразование векторных классов в бинарные матрицы \n",
    "y_train = np_utils.to_categorical(y_train, num_classes) \n",
    "y_test = np_utils.to_categorical(y_test, num_classes)\n",
    "print('Размер обучающей выборки:', x_train.shape[0])\n",
    "print('Размер тестовой выборки:', x_test.shape[0])"
   ]
  },
  {
   "cell_type": "code",
   "execution_count": 55,
   "metadata": {},
   "outputs": [
    {
     "name": "stdout",
     "output_type": "stream",
     "text": [
      "Model: \"sequential_16\"\n",
      "_________________________________________________________________\n",
      "Layer (type)                 Output Shape              Param #   \n",
      "=================================================================\n",
      "conv2d_16 (Conv2D)           (None, 9, 9, 32)          320       \n",
      "_________________________________________________________________\n",
      "flatten_16 (Flatten)         (None, 2592)              0         \n",
      "_________________________________________________________________\n",
      "dense_32 (Dense)             (None, 32)                82976     \n",
      "_________________________________________________________________\n",
      "dense_33 (Dense)             (None, 10)                330       \n",
      "=================================================================\n",
      "Total params: 83,626\n",
      "Trainable params: 83,626\n",
      "Non-trainable params: 0\n",
      "_________________________________________________________________\n",
      "None\n"
     ]
    }
   ],
   "source": [
    "model = Sequential()\n",
    "model.add(Conv2D(32, 3, 3, activation='relu', input_shape=(28, 28, 1))) \n",
    "\n",
    "model.add(Flatten())\n",
    "model.add(Dense(32, activation='relu'))\n",
    "model.add(Dense(10, activation='softmax'))\n",
    "\n",
    "model.compile(loss=keras.losses.categorical_crossentropy, optimizer=keras.optimizer_v1.Adadelta(), metrics=['accuracy'])\n",
    "\n",
    "print(model.summary())"
   ]
  },
  {
   "cell_type": "code",
   "execution_count": 70,
   "metadata": {},
   "outputs": [
    {
     "name": "stdout",
     "output_type": "stream",
     "text": [
      "Train on 60000 samples, validate on 10000 samples\n",
      "Epoch 1/25\n",
      "60000/60000 [==============================] - 2s 36us/sample - loss: 7.8193e-04 - accuracy: 1.0000 - val_loss: 0.1080 - val_accuracy: 0.9779\n",
      "Epoch 2/25\n",
      "60000/60000 [==============================] - 2s 36us/sample - loss: 7.2672e-04 - accuracy: 1.0000 - val_loss: 0.1105 - val_accuracy: 0.9797\n",
      "Epoch 3/25\n",
      "60000/60000 [==============================] - 2s 37us/sample - loss: 6.5058e-04 - accuracy: 1.0000 - val_loss: 0.1100 - val_accuracy: 0.9797\n",
      "Epoch 4/25\n",
      "60000/60000 [==============================] - 2s 38us/sample - loss: 5.8437e-04 - accuracy: 1.0000 - val_loss: 0.1107 - val_accuracy: 0.9793\n",
      "Epoch 5/25\n",
      "60000/60000 [==============================] - 2s 39us/sample - loss: 6.2601e-04 - accuracy: 1.0000 - val_loss: 0.1128 - val_accuracy: 0.9793\n",
      "Epoch 6/25\n",
      "60000/60000 [==============================] - 2s 38us/sample - loss: 4.9824e-04 - accuracy: 1.0000 - val_loss: 0.1126 - val_accuracy: 0.9792\n",
      "Epoch 7/25\n",
      "60000/60000 [==============================] - 2s 36us/sample - loss: 4.3326e-04 - accuracy: 1.0000 - val_loss: 0.1162 - val_accuracy: 0.9792\n",
      "Epoch 8/25\n",
      "60000/60000 [==============================] - 2s 38us/sample - loss: 3.7967e-04 - accuracy: 1.0000 - val_loss: 0.1168 - val_accuracy: 0.9786\n",
      "Epoch 9/25\n",
      "60000/60000 [==============================] - 2s 37us/sample - loss: 3.6189e-04 - accuracy: 1.0000 - val_loss: 0.1163 - val_accuracy: 0.9787\n",
      "Epoch 10/25\n",
      "60000/60000 [==============================] - 2s 36us/sample - loss: 3.3216e-04 - accuracy: 1.0000 - val_loss: 0.1187 - val_accuracy: 0.9794\n",
      "Epoch 11/25\n",
      "60000/60000 [==============================] - 2s 36us/sample - loss: 3.0001e-04 - accuracy: 1.0000 - val_loss: 0.1203 - val_accuracy: 0.9794\n",
      "Epoch 12/25\n",
      "60000/60000 [==============================] - 2s 36us/sample - loss: 2.9394e-04 - accuracy: 1.0000 - val_loss: 0.1201 - val_accuracy: 0.9790\n",
      "Epoch 13/25\n",
      "60000/60000 [==============================] - 2s 35us/sample - loss: 2.5599e-04 - accuracy: 1.0000 - val_loss: 0.1207 - val_accuracy: 0.9794\n",
      "Epoch 14/25\n",
      "60000/60000 [==============================] - 2s 35us/sample - loss: 2.5172e-04 - accuracy: 1.0000 - val_loss: 0.1217 - val_accuracy: 0.9793\n",
      "Epoch 15/25\n",
      "60000/60000 [==============================] - 2s 35us/sample - loss: 2.3284e-04 - accuracy: 1.0000 - val_loss: 0.1218 - val_accuracy: 0.9792\n",
      "Epoch 16/25\n",
      "60000/60000 [==============================] - 2s 35us/sample - loss: 2.1695e-04 - accuracy: 1.0000 - val_loss: 0.1237 - val_accuracy: 0.9794\n",
      "Epoch 17/25\n",
      "60000/60000 [==============================] - 2s 36us/sample - loss: 2.0375e-04 - accuracy: 1.0000 - val_loss: 0.1232 - val_accuracy: 0.9795\n",
      "Epoch 18/25\n",
      "60000/60000 [==============================] - 2s 35us/sample - loss: 1.9523e-04 - accuracy: 1.0000 - val_loss: 0.1237 - val_accuracy: 0.9794\n",
      "Epoch 19/25\n",
      "60000/60000 [==============================] - 2s 35us/sample - loss: 1.8577e-04 - accuracy: 1.0000 - val_loss: 0.1257 - val_accuracy: 0.9788\n",
      "Epoch 20/25\n",
      "60000/60000 [==============================] - 2s 35us/sample - loss: 1.7609e-04 - accuracy: 1.0000 - val_loss: 0.1263 - val_accuracy: 0.9791\n",
      "Epoch 21/25\n",
      "60000/60000 [==============================] - 2s 35us/sample - loss: 1.6901e-04 - accuracy: 1.0000 - val_loss: 0.1270 - val_accuracy: 0.9793\n",
      "Epoch 22/25\n",
      "60000/60000 [==============================] - 2s 36us/sample - loss: 1.5995e-04 - accuracy: 1.0000 - val_loss: 0.1269 - val_accuracy: 0.9800\n",
      "Epoch 23/25\n",
      "60000/60000 [==============================] - 2s 36us/sample - loss: 1.5300e-04 - accuracy: 1.0000 - val_loss: 0.1283 - val_accuracy: 0.9792\n",
      "Epoch 24/25\n",
      "60000/60000 [==============================] - 2s 35us/sample - loss: 1.4878e-04 - accuracy: 1.0000 - val_loss: 0.1284 - val_accuracy: 0.9786\n",
      "Epoch 25/25\n",
      "60000/60000 [==============================] - 2s 37us/sample - loss: 1.4272e-04 - accuracy: 1.0000 - val_loss: 0.1287 - val_accuracy: 0.9794\n"
     ]
    },
    {
     "data": {
      "text/plain": [
       "0.98"
      ]
     },
     "execution_count": 70,
     "metadata": {},
     "output_type": "execute_result"
    }
   ],
   "source": [
    "model.fit(x_train, y_train, batch_size=200, epochs=25, validation_split=0.2, validation_data=(x_test, y_test))\n",
    "\n",
    "round(model.evaluate(x_test, y_test)[1], 2)"
   ]
  }
 ],
 "metadata": {
  "kernelspec": {
   "display_name": "Python 3",
   "language": "python",
   "name": "python3"
  },
  "language_info": {
   "codemirror_mode": {
    "name": "ipython",
    "version": 3
   },
   "file_extension": ".py",
   "mimetype": "text/x-python",
   "name": "python",
   "nbconvert_exporter": "python",
   "pygments_lexer": "ipython3",
   "version": "3.8.5"
  }
 },
 "nbformat": 4,
 "nbformat_minor": 4
}
