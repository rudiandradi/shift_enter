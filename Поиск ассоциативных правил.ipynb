{
 "cells": [
  {
   "cell_type": "markdown",
   "metadata": {},
   "source": [
    "# *Описание задания виртуальной стажировки*  \n",
    "  \n",
    "## Направление Data Analyst, компания P&G  \n",
    "Добро пожаловать на виртуальную стажировку компании Procter&Gamble!  \n",
    "  \n",
    "Предлагаем тебе примерить роль аналитика данных в IT-подразделении международной компании сектора FMCG1, где объединяются бизнес, технологии и инновации.    \n",
    "  \n",
    "Выполнение всего блока заданий займет у тебя не более 60–80 минут.  \n",
    "  \n",
    "#### В результате ты научишься:  \n",
    "1. Проводить анализ исходных данных на полноту и оценивать их качество.  \n",
    "2. Искать ассоциативные правила, используя Python.  \n",
    "3. Из всего дата-сета выбирать только те данные, которые нужны для работы.  "
   ]
  },
  {
   "cell_type": "markdown",
   "metadata": {},
   "source": [
    "# Задание 1. Проверка данных на полноту"
   ]
  },
  {
   "cell_type": "markdown",
   "metadata": {},
   "source": [
    "На первом шаге в качестве Data Analyst компании P&G тебе предстоит научиться определять полноту исходных данных.\n",
    "Утром ты получил письмо от руководителя с инструкцией по выполнению задания."
   ]
  },
  {
   "cell_type": "markdown",
   "metadata": {},
   "source": [
    "\n",
    "\n",
    "*Привет!   \n",
    "Нам нужно проанализировать данные истории покупок. Сейчас планируем запуск проекта по работе с отсканированными чеками покупателей, которые те загружают для получения кэшбэка и призов по программе лояльности «Кэшбэк 10 %».*    \n",
    "      \n",
    "*Мы хотим исследовать данные отсканированных чеков на предмет полноты (дата-сет прикреплен во вложении), то есть <b>посчитать количество строк, содержащих пустые или пропущенные значения, которые обозначаются как NaN2 и вывести их долю в процентах от общего количества строк в файле</b>.*\n",
    "\n",
    "*Твоя задача дополнить код так, чтобы он посчитал и напечатал количество строк с NaN-значениями, а также указал в каких столбцах содержится больше всего пустых строк.*"
   ]
  },
  {
   "cell_type": "code",
   "execution_count": 1,
   "metadata": {},
   "outputs": [],
   "source": [
    "import pandas as pd\n",
    "import numpy as np\n",
    "df = pd.read_csv(r'Case_Data.csv', sep=',')"
   ]
  },
  {
   "cell_type": "code",
   "execution_count": 65,
   "metadata": {},
   "outputs": [
    {
     "name": "stdout",
     "output_type": "stream",
     "text": [
      "Количество пропущенных значений в каждом столбце:\n",
      " ﻿id чека               0\n",
      "Дата и время           0\n",
      "ИНН                    0\n",
      "IDПользователя         0\n",
      "Товар                  0\n",
      "Бренд             178495\n",
      "Теги              128391\n",
      "Цена                  52\n",
      "Кол-во                52\n",
      "Сумма                 52\n",
      "Кэшбэк            253552\n",
      "dtype: int64 \n",
      "\n",
      "\n",
      "Доля пропущенных значений в каждом столбце:\n",
      "﻿id чека - 0.0% пропущенных значений\n",
      "Дата и время - 0.0% пропущенных значений\n",
      "ИНН - 0.0% пропущенных значений\n",
      "IDПользователя - 0.0% пропущенных значений\n",
      "Товар - 0.0% пропущенных значений\n",
      "Бренд - 57.634% пропущенных значений\n",
      "Теги - 41.456% пропущенных значений\n",
      "Цена - 0.017% пропущенных значений\n",
      "Кол-во - 0.017% пропущенных значений\n",
      "Сумма - 0.017% пропущенных значений\n",
      "Кэшбэк - 81.868% пропущенных значений\n",
      "\n",
      "\n",
      "Количество строк, содержащих пропущенные значения:\n",
      " 259220 \n",
      "\n",
      "\n",
      "Доля строк, содержащих пропущенные значенния:\n",
      " 83.6985 %\n"
     ]
    }
   ],
   "source": [
    "nans = df.isna().sum(axis=0)\n",
    "\n",
    "print('Количество пропущенных значений в каждом столбце:\\n', df.isna().sum(), '\\n\\n')\n",
    "\n",
    "shape = len(df)\n",
    "percent_list = []\n",
    "\n",
    "for i in nans:\n",
    "    ans = i / shape\n",
    "    ans = round(ans, 5)\n",
    "    procent = ans * 100\n",
    "    answer = round(procent, 3)\n",
    "    percent_list.append(answer)\n",
    "\n",
    "print('Доля пропущенных значений в каждом столбце:')\n",
    "total = list(zip(df.columns, percent_list))\n",
    "for i in total:\n",
    "    print(f'{i[0]} - {i[1]}% пропущенных значений')\n",
    "    \n",
    "print('\\n\\nКоличество строк, содержащих пропущенные значения:\\n', df.isna().any(axis=1).sum(), '\\n\\n')\n",
    "print('Доля строк, содержащих пропущенные значенния:\\n', round((df.isna().any(axis=1).sum() / df.shape[0]) * 100, 4), '%')\n",
    "    "
   ]
  },
  {
   "cell_type": "markdown",
   "metadata": {},
   "source": [
    "# Задание 2. Поиск ассоциативных правил\n",
    "\n",
    "После успешного завершения анализа исходных данных на полноту, тебе нужно разобраться с применением Python для составления ассоциативных правил.\n",
    "На почте ты обнаружил новое письмо от IT-команды с постановкой очередного задания."
   ]
  },
  {
   "cell_type": "markdown",
   "metadata": {},
   "source": [
    "\n",
    "\n",
    "Привет! В качестве второго задания в роли Data Analyst предлагаем тебе познакомиться с ассоциативными правилами.   \n",
    "    \n",
    "<b>Обучение ассоциативным правилам</b>, или <b>Associations Rules Learning (ARL)</b> происходит на базе правил, помогающих обнаруживать взаимосвязи между транзакциями покупателей по данным истории покупок. В ARL анализируются чеки отдельных потребителей и выявляются правила взаимосвязей. Например, если 80% покупателей, имеющих в чеке пиццу, берут и зубные щетки, то получается следующее правило: «Покупка пиццы является условием для приобретения зубных щеток». При этом 80% — наша уверенность в правиле. Но бывает полезно учитывать не только confidence, но и поддержку. Поддержка — это доля покупателей, которые взяли вместе пиццу и зубные щетки, от общего числа клиентов."
   ]
  },
  {
   "cell_type": "markdown",
   "metadata": {},
   "source": [
    "#### Работа с пропусками"
   ]
  },
  {
   "cell_type": "code",
   "execution_count": 78,
   "metadata": {},
   "outputs": [],
   "source": [
    "cols = ['Бренд', 'Теги', 'Цена', 'Кол-во', 'Сумма', 'Кэшбэк']\n",
    "df[cols] = df[cols].fillna(df.mode().iloc[0])"
   ]
  },
  {
   "cell_type": "markdown",
   "metadata": {},
   "source": [
    "#### Группировка"
   ]
  },
  {
   "cell_type": "code",
   "execution_count": 83,
   "metadata": {},
   "outputs": [
    {
     "name": "stdout",
     "output_type": "stream",
     "text": [
      "﻿id чека\n",
      "0000a622f9c8f1821ca549fbcfd47405    [личная гигиена; красота и здоровье; прокладки...\n",
      "0000ff080b0a96172c95b3aa6f34980d    [прокладки; личная гигиена; красота и здоровье...\n",
      "00011b384dff1067131b3ecaea35382f    [упаковка; пакеты; прочее, алкоголь; пиво; пас...\n",
      "0001253a218fbfbdcf7b2f119bc9719f    [single; красота и здоровье; прокладки; личная...\n",
      "000138502d273274fc30a8d28db41680    [тампоны; личная гигиена; красота и здоровье, ...\n",
      "Name: Теги, dtype: object \n",
      "\n",
      "\n",
      "[('личная гигиена; красота и здоровье; прокладки', 'упаковка; пакеты; прочее'), ('прокладки; личная гигиена; красота и здоровье', 'молоко/сыр/яйца; сыр; продукты; плавленный', 'упаковка; пакеты; прочее', 'вода минеральная; напитки; продукты', 'блины; полуфабрикаты и готовые блюда; продукты')]\n"
     ]
    }
   ],
   "source": [
    "df2 = df.groupby(df.columns[0])['Теги'].unique()\n",
    "print(df2.head(),'\\n\\n')\n",
    "df3 = list(map(tuple,df2))\n",
    "print(df3[0:2])"
   ]
  },
  {
   "cell_type": "markdown",
   "metadata": {},
   "source": [
    "#### Apriori"
   ]
  },
  {
   "cell_type": "code",
   "execution_count": 85,
   "metadata": {},
   "outputs": [],
   "source": [
    "from efficient_apriori import apriori"
   ]
  },
  {
   "cell_type": "code",
   "execution_count": 98,
   "metadata": {},
   "outputs": [
    {
     "name": "stdout",
     "output_type": "stream",
     "text": [
      "[{упаковка; пакеты; прочее} -> {личная гигиена; красота и здоровье; прокладки}, {личная гигиена; красота и здоровье; прокладки} -> {упаковка; пакеты; прочее}, {упаковка; пакеты; прочее} -> {прокладки; личная гигиена; красота и здоровье}, {прокладки; личная гигиена; красота и здоровье} -> {упаковка; пакеты; прочее}, {упаковка; пакеты; прочее} -> {красота и здоровье; гигиена волос; шампунь для волос}] \n",
      "\n",
      "\n",
      "{1: {('личная гигиена; красота и здоровье; прокладки',): 2410, ('упаковка; пакеты; прочее',): 30585, ('прокладки; личная гигиена; красота и здоровье',): 2484, ('уход за полостью рта; зубная паста; красота и здоровье',): 760, ('красота и здоровье; гигиена волос; шампунь для волос',): 1043, ('красота и здоровье; дезодорант/антиперсперант; личная гигиена',): 521, ('продукты; банан; фрукты; овощи/фрукты/ягоды',): 699, ('дезодорант/антиперсперант; личная гигиена; красота и здоровье',): 504, ('; ',): 550, ('красота и здоровье; личная гигиена; дезодорант/антиперсперант',): 707, ('бакалея; сахар; продукты',): 400, ('красота и здоровье; прокладки; личная гигиена',): 1281, ('красота и здоровье; зубная паста; уход за полостью рта',): 639, ('кондиционер для белья; хозяйственные товары; уход за бельем',): 1109, ('красота и здоровье; личная гигиена; прокладки',): 1261, ('уход за полостью рта; красота и здоровье; зубная паста',): 613, ('хлеб и сладости; хлеб; продукты',): 344, ('красота и здоровье; шампунь для волос; гигиена волос',): 1328, ('личная гигиена; прокладки; красота и здоровье',): 1977, ('личная гигиена; дезодорант/антиперсперант; красота и здоровье',): 431, ('шампунь для волос; гигиена волос; красота и здоровье',): 987, ('прочее; упаковка; пакеты',): 1510, ('гель для душа; личная гигиена; красота и здоровье',): 354, ('пакеты; прочее; упаковка',): 1668, ('уход за бельем; кондиционер для белья; хозяйственные товары',): 546, ('зубная паста; уход за полостью рта; красота и здоровье',): 533, ('личная гигиена; красота и здоровье; дезодорант/антиперсперант',): 554, ('прокладки; красота и здоровье; личная гигиена',): 1960, ('бумага/салфетки; салфетки; хозяйственные товары',): 454, ('хозяйственные товары; салфетки; бумага/салфетки',): 348, ('бакалея; продукты; макароны',): 361, ('продукты; макароны; бакалея',): 337, ('шампунь для волос; красота и здоровье; гигиена волос',): 1016, ('пюре детское; детское питание',): 477, ('детское питание; пюре детское',): 486, ('туалетная бумага; бумага/салфетки; хозяйственные товары',): 416, ('зубная паста; красота и здоровье; уход за полостью рта',): 630, ('прочее; лояльность',): 1437, ('огурцы; овощи/фрукты/ягоды; продукты; овощи',): 414, ('пакеты; упаковка; прочее',): 1455, ('неззащ',): 612, ('гигиена волос; красота и здоровье; шампунь для волос',): 833, ('продукты; мандарины; фрукты; овощи/фрукты/ягоды',): 516, ('упаковка; прочее; пакеты',): 408, ('кондитерка',): 325, ('хозяйственные товары; кондиционер для белья; уход за бельем',): 325, ('красота и здоровье; уход за полостью рта; зубная паста',): 614, ('кондиционер для белья; уход за бельем; хозяйственные товары',): 528, ('салфетки; бумага/салфетки; хозяйственные товары',): 488, ('личная гигиена; ежедневные; красота и здоровье; прокладки',): 342, ('дезодорант/антиперсперант; красота и здоровье; личная гигиена',): 531, ('фрукты; овощи/фрукты/ягоды; продукты; банан',): 360, ('красота и здоровье; бальзам для волос; гигиена волос',): 332, ('гигиена волос; шампунь для волос; красота и здоровье',): 910, ('хозяйственные товары; уход за бельем; кондиционер для белья',): 380, ('макароны; продукты; бакалея',): 349, ('табачные изделия; сигареты',): 319, ('продукты; хлеб и сладости; хлеб',): 338}, 2: {('личная гигиена; красота и здоровье; прокладки', 'упаковка; пакеты; прочее'): 1832, ('прокладки; личная гигиена; красота и здоровье', 'упаковка; пакеты; прочее'): 1873, ('красота и здоровье; гигиена волос; шампунь для волос', 'упаковка; пакеты; прочее'): 822, ('красота и здоровье; дезодорант/антиперсперант; личная гигиена', 'упаковка; пакеты; прочее'): 402, ('продукты; банан; фрукты; овощи/фрукты/ягоды', 'упаковка; пакеты; прочее'): 674, ('бакалея; сахар; продукты', 'упаковка; пакеты; прочее'): 390, ('красота и здоровье; прокладки; личная гигиена', 'упаковка; пакеты; прочее'): 1019, ('красота и здоровье; личная гигиена; прокладки', 'упаковка; пакеты; прочее'): 994, ('упаковка; пакеты; прочее', 'уход за полостью рта; красота и здоровье; зубная паста'): 496, ('дезодорант/антиперсперант; личная гигиена; красота и здоровье', 'упаковка; пакеты; прочее'): 390, ('красота и здоровье; шампунь для волос; гигиена волос', 'упаковка; пакеты; прочее'): 999, ('упаковка; пакеты; прочее', 'хлеб и сладости; хлеб; продукты'): 325, ('упаковка; пакеты; прочее', 'уход за полостью рта; зубная паста; красота и здоровье'): 602, ('личная гигиена; дезодорант/антиперсперант; красота и здоровье', 'упаковка; пакеты; прочее'): 349, ('личная гигиена; прокладки; красота и здоровье', 'упаковка; пакеты; прочее'): 1466, ('прочее; упаковка; пакеты', 'упаковка; пакеты; прочее'): 1323, ('упаковка; пакеты; прочее', 'шампунь для волос; гигиена волос; красота и здоровье'): 763, ('пакеты; прочее; упаковка', 'упаковка; пакеты; прочее'): 1479, ('зубная паста; уход за полостью рта; красота и здоровье', 'упаковка; пакеты; прочее'): 464, ('личная гигиена; красота и здоровье; дезодорант/антиперсперант', 'упаковка; пакеты; прочее'): 424, ('прокладки; красота и здоровье; личная гигиена', 'упаковка; пакеты; прочее'): 1514, ('бакалея; продукты; макароны', 'упаковка; пакеты; прочее'): 357, ('бумага/салфетки; салфетки; хозяйственные товары', 'упаковка; пакеты; прочее'): 414, ('красота и здоровье; личная гигиена; дезодорант/антиперсперант', 'упаковка; пакеты; прочее'): 515, ('продукты; макароны; бакалея', 'упаковка; пакеты; прочее'): 331, ('упаковка; пакеты; прочее', 'хозяйственные товары; салфетки; бумага/салфетки'): 330, ('детское питание; пюре детское', 'упаковка; пакеты; прочее'): 459, ('пюре детское; детское питание', 'упаковка; пакеты; прочее'): 451, ('упаковка; пакеты; прочее', 'шампунь для волос; красота и здоровье; гигиена волос'): 821, ('кондиционер для белья; хозяйственные товары; уход за бельем', 'упаковка; пакеты; прочее'): 832, ('туалетная бумага; бумага/салфетки; хозяйственные товары', 'упаковка; пакеты; прочее'): 364, ('прочее; лояльность', 'упаковка; пакеты; прочее'): 1178, ('огурцы; овощи/фрукты/ягоды; продукты; овощи', 'упаковка; пакеты; прочее'): 406, ('пакеты; упаковка; прочее', 'упаковка; пакеты; прочее'): 1342, ('гигиена волос; красота и здоровье; шампунь для волос', 'упаковка; пакеты; прочее'): 641, ('продукты; мандарины; фрукты; овощи/фрукты/ягоды', 'упаковка; пакеты; прочее'): 497, ('красота и здоровье; зубная паста; уход за полостью рта', 'упаковка; пакеты; прочее'): 539, ('упаковка; пакеты; прочее', 'упаковка; прочее; пакеты'): 382, ('красота и здоровье; уход за полостью рта; зубная паста', 'упаковка; пакеты; прочее'): 512, ('кондиционер для белья; уход за бельем; хозяйственные товары', 'упаковка; пакеты; прочее'): 426, ('упаковка; пакеты; прочее', 'уход за бельем; кондиционер для белья; хозяйственные товары'): 391, ('салфетки; бумага/салфетки; хозяйственные товары', 'упаковка; пакеты; прочее'): 450, ('дезодорант/антиперсперант; красота и здоровье; личная гигиена', 'упаковка; пакеты; прочее'): 387, ('зубная паста; красота и здоровье; уход за полостью рта', 'упаковка; пакеты; прочее'): 518, ('упаковка; пакеты; прочее', 'фрукты; овощи/фрукты/ягоды; продукты; банан'): 345, ('гигиена волос; шампунь для волос; красота и здоровье', 'упаковка; пакеты; прочее'): 734, ('макароны; продукты; бакалея', 'упаковка; пакеты; прочее'): 340, ('продукты; хлеб и сладости; хлеб', 'упаковка; пакеты; прочее'): 319}} \n",
      "\n",
      "\n",
      "2\n"
     ]
    }
   ],
   "source": [
    "association_rules = apriori(df3, min_support=0.007,\n",
    "                            min_confidence=0.0045) \n",
    "print(association_rules[1][0:5],'\\n\\n') \n",
    "print(association_rules[0], '\\n\\n')\n",
    "print(len(association_rules))"
   ]
  },
  {
   "cell_type": "code",
   "execution_count": 101,
   "metadata": {},
   "outputs": [
    {
     "name": "stdout",
     "output_type": "stream",
     "text": [
      "{('личная гигиена; красота и здоровье; прокладки',): 2410, ('упаковка; пакеты; прочее',): 30585, ('прокладки; личная гигиена; красота и здоровье',): 2484, ('уход за полостью рта; зубная паста; красота и здоровье',): 760, ('красота и здоровье; гигиена волос; шампунь для волос',): 1043, ('красота и здоровье; дезодорант/антиперсперант; личная гигиена',): 521, ('продукты; банан; фрукты; овощи/фрукты/ягоды',): 699, ('дезодорант/антиперсперант; личная гигиена; красота и здоровье',): 504, ('; ',): 550, ('красота и здоровье; личная гигиена; дезодорант/антиперсперант',): 707, ('бакалея; сахар; продукты',): 400, ('красота и здоровье; прокладки; личная гигиена',): 1281, ('красота и здоровье; зубная паста; уход за полостью рта',): 639, ('кондиционер для белья; хозяйственные товары; уход за бельем',): 1109, ('красота и здоровье; личная гигиена; прокладки',): 1261, ('уход за полостью рта; красота и здоровье; зубная паста',): 613, ('хлеб и сладости; хлеб; продукты',): 344, ('красота и здоровье; шампунь для волос; гигиена волос',): 1328, ('личная гигиена; прокладки; красота и здоровье',): 1977, ('личная гигиена; дезодорант/антиперсперант; красота и здоровье',): 431, ('шампунь для волос; гигиена волос; красота и здоровье',): 987, ('прочее; упаковка; пакеты',): 1510, ('гель для душа; личная гигиена; красота и здоровье',): 354, ('пакеты; прочее; упаковка',): 1668, ('уход за бельем; кондиционер для белья; хозяйственные товары',): 546, ('зубная паста; уход за полостью рта; красота и здоровье',): 533, ('личная гигиена; красота и здоровье; дезодорант/антиперсперант',): 554, ('прокладки; красота и здоровье; личная гигиена',): 1960, ('бумага/салфетки; салфетки; хозяйственные товары',): 454, ('хозяйственные товары; салфетки; бумага/салфетки',): 348, ('бакалея; продукты; макароны',): 361, ('продукты; макароны; бакалея',): 337, ('шампунь для волос; красота и здоровье; гигиена волос',): 1016, ('пюре детское; детское питание',): 477, ('детское питание; пюре детское',): 486, ('туалетная бумага; бумага/салфетки; хозяйственные товары',): 416, ('зубная паста; красота и здоровье; уход за полостью рта',): 630, ('прочее; лояльность',): 1437, ('огурцы; овощи/фрукты/ягоды; продукты; овощи',): 414, ('пакеты; упаковка; прочее',): 1455, ('неззащ',): 612, ('гигиена волос; красота и здоровье; шампунь для волос',): 833, ('продукты; мандарины; фрукты; овощи/фрукты/ягоды',): 516, ('упаковка; прочее; пакеты',): 408, ('кондитерка',): 325, ('хозяйственные товары; кондиционер для белья; уход за бельем',): 325, ('красота и здоровье; уход за полостью рта; зубная паста',): 614, ('кондиционер для белья; уход за бельем; хозяйственные товары',): 528, ('салфетки; бумага/салфетки; хозяйственные товары',): 488, ('личная гигиена; ежедневные; красота и здоровье; прокладки',): 342, ('дезодорант/антиперсперант; красота и здоровье; личная гигиена',): 531, ('фрукты; овощи/фрукты/ягоды; продукты; банан',): 360, ('красота и здоровье; бальзам для волос; гигиена волос',): 332, ('гигиена волос; шампунь для волос; красота и здоровье',): 910, ('хозяйственные товары; уход за бельем; кондиционер для белья',): 380, ('макароны; продукты; бакалея',): 349, ('табачные изделия; сигареты',): 319, ('продукты; хлеб и сладости; хлеб',): 338} \n",
      "\n",
      "\n",
      "\n",
      "{личная гигиена; красота и здоровье; прокладки} -> {упаковка; пакеты; прочее} (conf: 0.760, supp: 0.040, lift: 1.131, conv: 1.367) \n",
      "\n",
      "\n",
      "\n"
     ]
    }
   ],
   "source": [
    "for item in association_rules:\n",
    "    pair = item[1]\n",
    "    print(pair, '\\n\\n\\n') # lift, support, confidence для одного правила"
   ]
  },
  {
   "cell_type": "markdown",
   "metadata": {},
   "source": [
    "# Задание 3. Найди товары P&G в чеках покупателей"
   ]
  },
  {
   "cell_type": "markdown",
   "metadata": {},
   "source": [
    "Поздравляем, ты почти освоил работу аналитика данных, впереди осталось только финальное задание.  \n",
    "Тем временем на почте появилось новое письмо с инструкцией, что делать дальше"
   ]
  },
  {
   "cell_type": "markdown",
   "metadata": {},
   "source": [
    "\n",
    "\n",
    "Привет! \n",
    "\n",
    "В качестве третьего задания в роли Data Analyst в P&G нужно изучить распределение данных по категориям. Из общего дата-сета выбери только товары P&G, используя столбец «Бренд».   \n",
    "\n",
    "Основные требования к выполнению задания:  \n",
    "* Найти максимальное количество товаров P&G в дата-сете.   \n",
    "* Построить график, чтобы понять какие бренды P&G чаще всего есть в чеках покупателей.  "
   ]
  },
  {
   "cell_type": "code",
   "execution_count": 103,
   "metadata": {},
   "outputs": [],
   "source": [
    "df['Бренд'] = df['Бренд'].str.lower()"
   ]
  },
  {
   "cell_type": "code",
   "execution_count": 126,
   "metadata": {},
   "outputs": [],
   "source": [
    "brand_list = ['ariel', 'tide', 'миф', 'lenor', 'always', 'tampax', 'naturella','discreet', 'braun', 'gillette',\n",
    "             'venus', 'head&shoulders', 'pantene', 'herbal', 'aussie', 'fairy', 'mr. proper', 'oral-b',\n",
    "             'blend-a-med', 'clearblue', 'old spice', 'safeguard', 'pampers', 'bear fruits']"
   ]
  },
  {
   "cell_type": "code",
   "execution_count": 127,
   "metadata": {},
   "outputs": [],
   "source": [
    "def count_brand(dataset, brand_name, parser): \n",
    "    found_rows = df['Бренд'].str.contains(parser).sum() \n",
    "    print(brand_name + \":\", \"%0.0f\" % df['Бренд'].str.contains(parser).sum()) \n",
    "    dct[i] = found_rows\n",
    "    return found_rows"
   ]
  },
  {
   "cell_type": "code",
   "execution_count": 128,
   "metadata": {},
   "outputs": [
    {
     "name": "stdout",
     "output_type": "stream",
     "text": [
      "ariel: 2523\n",
      "tide: 1960\n",
      "миф: 265\n",
      "lenor: 5207\n",
      "always: 189232\n",
      "tampax: 228\n",
      "naturella: 2985\n",
      "discreet: 6244\n",
      "braun: 3\n",
      "gillette: 5718\n",
      "venus: 1122\n",
      "head&shoulders: 3658\n",
      "pantene: 3848\n",
      "herbal: 147\n",
      "aussie: 356\n",
      "fairy: 4266\n",
      "mr. proper: 1936\n",
      "oral-b: 1106\n",
      "blend-a-med: 1764\n",
      "clearblue: 64\n",
      "old spice: 2315\n",
      "safeguard: 1014\n",
      "pampers: 3505\n",
      "bear fruits: 0\n"
     ]
    }
   ],
   "source": [
    "dct = {}\n",
    "\n",
    "for i in brand_list:\n",
    "    count_brand(df, i, i)"
   ]
  },
  {
   "cell_type": "code",
   "execution_count": 118,
   "metadata": {},
   "outputs": [
    {
     "data": {
      "text/plain": [
       "always      189232\n",
       "discreet      6244\n",
       "gillette      5718\n",
       "dtype: int64"
      ]
     },
     "execution_count": 118,
     "metadata": {},
     "output_type": "execute_result"
    }
   ],
   "source": [
    "res = pd.Series(dct)\n",
    "res.sort_values(ascending=False).head(3)"
   ]
  },
  {
   "cell_type": "markdown",
   "metadata": {},
   "source": [
    "Топ-3 продукта P&G:   \n",
    "* always (10737);  \n",
    "* discreet (6244);  \n",
    "* gillette (5718);"
   ]
  },
  {
   "cell_type": "code",
   "execution_count": 119,
   "metadata": {},
   "outputs": [
    {
     "data": {
      "image/png": "[encoded data removed]",
      "text/plain": [
       "<Figure size 1440x864 with 1 Axes>"
      ]
     },
     "metadata": {
      "needs_background": "light"
     },
     "output_type": "display_data"
    }
   ],
   "source": [
    "import matplotlib.pyplot as plt\n",
    "%matplotlib inline\n",
    "\n",
    "plt.figure(figsize=(20,12))\n",
    "plt.barh(res.index, res)\n",
    "plt.title('Топ товаров P&G в чеках покупателей')\n",
    "plt.ylabel('Количество товаров')\n",
    "plt.xlabel('Товар');"
   ]
  },
  {
   "cell_type": "markdown",
   "metadata": {},
   "source": [
    "##### Использованные материалы:\n",
    "  \n",
    "\n",
    "* [Качество данных | Бизнес-Анализ в России](https://analytics.infozone.pro/kachestvo-dannyh/)  \n",
    "* [Документация библиотеки Efficient-Apriori](https://efficient-apriori.readthedocs.io/en/latest/index.html)  \n",
    "* [Association Rule Mining via Apriori Algorithm in Python - Stack Abuse](https://stackabuse.com/association-rule-mining-via-apriori-algorithm-in-python)  \n",
    "* [Бренды | Procter and Gamble](https://www.procterandgamble.ru/brendy-i-produktsiya/)"
   ]
  },
  {
   "cell_type": "code",
   "execution_count": null,
   "metadata": {},
   "outputs": [],
   "source": []
  }
 ],
 "metadata": {
  "kernelspec": {
   "display_name": "Python 3",
   "language": "python",
   "name": "python3"
  },
  "language_info": {
   "codemirror_mode": {
    "name": "ipython",
    "version": 3
   },
   "file_extension": ".py",
   "mimetype": "text/x-python",
   "name": "python",
   "nbconvert_exporter": "python",
   "pygments_lexer": "ipython3",
   "version": "3.8.5"
  }
 },
 "nbformat": 4,
 "nbformat_minor": 4
}
